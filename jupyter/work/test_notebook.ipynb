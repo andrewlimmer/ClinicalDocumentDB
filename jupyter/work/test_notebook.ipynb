{
 "cells": [
  {
   "cell_type": "code",
   "execution_count": 1,
   "id": "c23e433d-e888-464e-9eb3-a170690b9007",
   "metadata": {},
   "outputs": [
    {
     "name": "stdout",
     "output_type": "stream",
     "text": [
      "\u001b[33mWARNING: Running pip as the 'root' user can result in broken permissions and conflicting behaviour with the system package manager. It is recommended to use a virtual environment instead: https://pip.pypa.io/warnings/venv\u001b[0m\u001b[33m\n",
      "\u001b[0m"
     ]
    }
   ],
   "source": [
    "!pip install pycryptodome -q"
   ]
  },
  {
   "cell_type": "code",
   "execution_count": 30,
   "id": "e5e82818-3d03-402c-bde9-175ada636d43",
   "metadata": {},
   "outputs": [],
   "source": [
    "import numpy as np\n",
    "from db_lib import db\n",
    "from aes_encrypt import AES_Encrypt\n",
    "from Crypto.Cipher import AES\n",
    "import hashlib"
   ]
  },
  {
   "cell_type": "code",
   "execution_count": 3,
   "id": "3b97129e-fbaa-4769-bb01-69512bdac60c",
   "metadata": {},
   "outputs": [
    {
     "data": {
      "text/plain": [
       "b'\\xa141,#\\xe2;\\xcbGF\\xdb\\xa3\\xd3\\xe3\\xbc\\x80\\xff\\rc\\xaf\\xc0n\\xd2\\xf9\\xf5lk\\xbbs\\xeb\\x05\\xc0'"
      ]
     },
     "execution_count": 3,
     "metadata": {},
     "output_type": "execute_result"
    }
   ],
   "source": [
    "# Connect to database and get cursor\n",
    "cursor = db()\n",
    "\n",
    "# Write Query\n",
    "sql = 'SELECT * FROM clinical_document.q_document'\n",
    "# Run Query\n",
    "data = cursor.sql(sql)\n",
    "# Close Connection\n",
    "del cursor\n",
    "\n",
    "\n",
    "key = AES.get_random_bytes(32)\n",
    "key"
   ]
  },
  {
   "cell_type": "code",
   "execution_count": 4,
   "id": "0e7bedf3-4351-49fd-9587-fe58f665d8ae",
   "metadata": {},
   "outputs": [
    {
     "ename": "IndexError",
     "evalue": "index 0 is out of bounds for axis 0 with size 0",
     "output_type": "error",
     "traceback": [
      "\u001b[0;31m---------------------------------------------------------------------------\u001b[0m",
      "\u001b[0;31mIndexError\u001b[0m                                Traceback (most recent call last)",
      "Cell \u001b[0;32mIn[4], line 20\u001b[0m\n\u001b[1;32m     16\u001b[0m sql \u001b[38;5;241m=\u001b[39m \u001b[38;5;124mf\u001b[39m\u001b[38;5;124m\"\u001b[39m\u001b[38;5;124mSELECT md5, item_object \u001b[39m\u001b[38;5;130;01m\\\u001b[39;00m\n\u001b[1;32m     17\u001b[0m \u001b[38;5;124m        FROM clinical_document.document, jsonb_array_elements(attr) with ordinality arr(item_object, position) \u001b[39m\u001b[38;5;130;01m\\\u001b[39;00m\n\u001b[1;32m     18\u001b[0m \u001b[38;5;124m        WHERE arr.item_object->>\u001b[39m\u001b[38;5;124m'\u001b[39m\u001b[38;5;124muuid\u001b[39m\u001b[38;5;124m'\u001b[39m\u001b[38;5;124m = \u001b[39m\u001b[38;5;124m'\u001b[39m\u001b[38;5;124m1f4aa6b8-0356-433f-b8a2-7971a158bdb7\u001b[39m\u001b[38;5;124m'\u001b[39m\u001b[38;5;124m;\u001b[39m\u001b[38;5;124m\"\u001b[39m\n\u001b[1;32m     19\u001b[0m data \u001b[38;5;241m=\u001b[39m np\u001b[38;5;241m.\u001b[39marray(cursor\u001b[38;5;241m.\u001b[39msql(sql))\u001b[38;5;241m.\u001b[39mT\n\u001b[0;32m---> 20\u001b[0m md5 \u001b[38;5;241m=\u001b[39m \u001b[43mdata\u001b[49m\u001b[43m[\u001b[49m\u001b[38;5;241;43m0\u001b[39;49m\u001b[43m]\u001b[49m[\u001b[38;5;241m0\u001b[39m]\n\u001b[1;32m     21\u001b[0m \u001b[38;5;28mprint\u001b[39m(\u001b[38;5;124mf\u001b[39m\u001b[38;5;124m\"\u001b[39m\u001b[38;5;132;01m{\u001b[39;00mmd5\u001b[38;5;132;01m=}\u001b[39;00m\u001b[38;5;124m\"\u001b[39m)\n\u001b[1;32m     22\u001b[0m json_obj \u001b[38;5;241m=\u001b[39m data[\u001b[38;5;241m1\u001b[39m][\u001b[38;5;241m0\u001b[39m]\n",
      "\u001b[0;31mIndexError\u001b[0m: index 0 is out of bounds for axis 0 with size 0"
     ]
    }
   ],
   "source": [
    "# Connect to database and get cursor\n",
    "cursor = db()\n",
    "\n",
    "tag = 'mrn'\n",
    "attribute = 'value'\n",
    "sql = f\"SELECT DISTINCT uuid FROM \\\n",
    "(SELECT jsonb_array_elements(attr)->>'uuid' as uuid, jsonb_array_elements(attr)->>'tag' as tag, jsonb_array_elements(attr)::jsonb as attributes \\\n",
    "FROM clinical_document.document, jsonb_array_elements(attr) with ordinality arr(item_object, position) ) tmp \\\n",
    "WHERE tag = '{tag}' \\\n",
    "AND attributes->tag ? '{attribute}'\"\n",
    "\n",
    "uuids = np.asarray(cursor.sql(sql)).flatten()\n",
    "\n",
    "# loop Through uuids\n",
    "for uuid in uuids:\n",
    "    sql = f\"SELECT md5, item_object \\\n",
    "            FROM clinical_document.document, jsonb_array_elements(attr) with ordinality arr(item_object, position) \\\n",
    "            WHERE arr.item_object->>'uuid' = '1f4aa6b8-0356-433f-b8a2-7971a158bdb7';\"\n",
    "    data = np.array(cursor.sql(sql)).T\n",
    "    md5 = data[0][0]\n",
    "    print(f\"{md5=}\")\n",
    "    json_obj = data[1][0]\n",
    "    print(json_obj)\n",
    "    value = json_obj[f'{tag}'][f'{attribute}'].encode(\"utf8\")\n",
    "    print(value)\n",
    "    \n",
    "    #aes = AES_Encrypt(key=key)\n",
    "    #cipher_text, tag_, nonce = aes.encrypt_text(value)\n",
    "    #print(cipher_text, tag_, nonce)\n",
    "    \n",
    "    \n",
    "    \n",
    "    value = aes.decrypt_text(cipher_text, tag_, nonce)\n",
    "    print(value.decode())\n",
    "    \n",
    "    del aes\n",
    "    \n",
    "    \n",
    "    \n",
    "print(uuids)\n",
    "# Close Connection\n",
    "del cursor"
   ]
  },
  {
   "cell_type": "code",
   "execution_count": null,
   "id": "897f3f60-e075-4298-ad4b-ccc7c91b8ae2",
   "metadata": {},
   "outputs": [],
   "source": []
  },
  {
   "cell_type": "code",
   "execution_count": 29,
   "id": "cc33906f-0e7c-4ca3-bf5f-a481b4f5be0b",
   "metadata": {},
   "outputs": [
    {
     "name": "stdout",
     "output_type": "stream",
     "text": [
      "b3e5fff4d458\n"
     ]
    }
   ],
   "source": [
    "mrn = '333333'.encode(\"utf8\")\n",
    "# Encrypt\n",
    "aes = AES_Encrypt(key=key)\n",
    "cipher_text, cipher_tag, nonce = aes.encrypt_text(mrn)\n",
    "del aes\n",
    "print(cipher_text.hex())"
   ]
  },
  {
   "cell_type": "code",
   "execution_count": 34,
   "id": "0de23800-3bbe-4e48-bf89-4da5b5fe6c97",
   "metadata": {},
   "outputs": [
    {
     "data": {
      "text/plain": [
       "'68487dc295052aa79c530e283ce698b8c6bb1b42ff0944252e1910dbecdc5425'"
      ]
     },
     "execution_count": 34,
     "metadata": {},
     "output_type": "execute_result"
    }
   ],
   "source": [
    "hashlib.sha256(mrn).hexdigest()"
   ]
  },
  {
   "cell_type": "code",
   "execution_count": null,
   "id": "cf4a818d-2637-4b6e-a724-db862542fda4",
   "metadata": {},
   "outputs": [],
   "source": []
  }
 ],
 "metadata": {
  "kernelspec": {
   "display_name": "Python 3 (ipykernel)",
   "language": "python",
   "name": "python3"
  },
  "language_info": {
   "codemirror_mode": {
    "name": "ipython",
    "version": 3
   },
   "file_extension": ".py",
   "mimetype": "text/x-python",
   "name": "python",
   "nbconvert_exporter": "python",
   "pygments_lexer": "ipython3",
   "version": "3.10.8"
  }
 },
 "nbformat": 4,
 "nbformat_minor": 5
}
