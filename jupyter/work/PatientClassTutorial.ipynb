{
 "cells": [
  {
   "cell_type": "markdown",
   "id": "bd15a7d4-ca9d-4247-847e-185a086fc7f5",
   "metadata": {},
   "source": [
    "# A Helpful Class to Interface With the Patient Data\n",
    "Based off of Pandas Dataframes"
   ]
  },
  {
   "cell_type": "code",
   "execution_count": 1,
   "id": "3d814e83-8bb3-4291-b5c9-fd496a7615a1",
   "metadata": {},
   "outputs": [],
   "source": [
    "from Patient import Patient\n",
    "from Database import Database"
   ]
  },
  {
   "cell_type": "markdown",
   "id": "85f6028f-15f1-470c-8d01-a47d7d12d13f",
   "metadata": {},
   "source": [
    "## Database Interface:\n",
    "Database Methods deal with database-wide searches, meaning they are functions that are not specific for a single patient.\n",
    "# Initialize Database"
   ]
  },
  {
   "cell_type": "code",
   "execution_count": null,
   "id": "5e0327cc-b215-400e-b076-0eb5b5c59ec2",
   "metadata": {},
   "outputs": [],
   "source": [
    "d = Database()"
   ]
  },
  {
   "cell_type": "code",
   "execution_count": null,
   "id": "d6044f47-c1c8-46c2-bc60-fd1be614c92c",
   "metadata": {},
   "outputs": [],
   "source": []
  },
  {
   "cell_type": "markdown",
   "id": "e1f0994c-8bd8-4d2e-b873-0dc5d0549a2b",
   "metadata": {},
   "source": [
    "### 1. fetch_mrns()\n",
    "Return a list of all the mrns found in the database\n"
   ]
  },
  {
   "cell_type": "code",
   "execution_count": null,
   "id": "87ce653e-87c5-420e-b9a1-301dbc481119",
   "metadata": {},
   "outputs": [],
   "source": [
    "d.fetch_mrns()"
   ]
  },
  {
   "cell_type": "markdown",
   "id": "04cac77e-0131-4f55-a2cf-f10ca0a97651",
   "metadata": {},
   "source": [
    "### 2. search_name\n",
    "MRN Lookup by Name.  Case-insensitive\n"
   ]
  },
  {
   "cell_type": "code",
   "execution_count": null,
   "id": "40b7c29d-da46-4df8-9a5b-99b513762ec2",
   "metadata": {},
   "outputs": [],
   "source": [
    "d.search_name()"
   ]
  },
  {
   "cell_type": "code",
   "execution_count": null,
   "id": "d057ccfd-0dec-4d7d-bf61-4f014b4c2e95",
   "metadata": {},
   "outputs": [],
   "source": [
    "#Can specify last name \n",
    "d.search_name(last_name = \"Funk1\")"
   ]
  },
  {
   "cell_type": "code",
   "execution_count": null,
   "id": "971055aa-5f48-47a5-858f-bfdfae326dcd",
   "metadata": {},
   "outputs": [],
   "source": [
    "#Specify First Name \n",
    "d.search_name(first_name = \"Smith1\")"
   ]
  },
  {
   "cell_type": "code",
   "execution_count": null,
   "id": "b90cf37c-aa6a-4cba-9227-ffd6a6434fa9",
   "metadata": {},
   "outputs": [],
   "source": [
    "#Or Both\n",
    "d.search_name(first_name = \"john\", last_name = \"doe\")"
   ]
  },
  {
   "cell_type": "markdown",
   "id": "316a9e32-98b4-4c33-a6ce-8c1e2292f34f",
   "metadata": {},
   "source": [
    "### 3. search()\n",
    "Lookup by tag.  Returns all data that matches a given tag.  CASE-SENSITIVE"
   ]
  },
  {
   "cell_type": "code",
   "execution_count": null,
   "id": "281565cf-34c7-4924-ade1-fef92423c542",
   "metadata": {},
   "outputs": [],
   "source": [
    "d.search(\"diagnosis\")"
   ]
  },
  {
   "cell_type": "code",
   "execution_count": null,
   "id": "ad6a065a-c793-434b-bf24-5189fa1da766",
   "metadata": {},
   "outputs": [],
   "source": [
    "d.search(\"dob\")"
   ]
  },
  {
   "cell_type": "markdown",
   "id": "63ce2d84-b6d0-4f1f-a9dd-fe8c4a29d30a",
   "metadata": {},
   "source": [
    "## Patient Interface\n",
    "A simplistic way to retrieve the data for each patient"
   ]
  },
  {
   "cell_type": "code",
   "execution_count": 2,
   "id": "48a815c5-bf13-4340-be48-df0b5cd942c0",
   "metadata": {},
   "outputs": [
    {
     "name": "stdout",
     "output_type": "stream",
     "text": [
      "Connect To Database\n"
     ]
    },
    {
     "name": "stdin",
     "output_type": "stream",
     "text": [
      "username: ········\n",
      "encryption key: ········\n"
     ]
    },
    {
     "name": "stdout",
     "output_type": "stream",
     "text": [
      "Connected: {'user': 'admin', 'channel_binding': 'prefer', 'dbname': 'clinical', 'host': 'clinical_db', 'port': '5432', 'options': '-c search_path=clinical_document,rad_onc,public', 'sslmode': 'require', 'sslcompression': '0', 'sslsni': '1', 'ssl_min_protocol_version': 'TLSv1.2', 'gssencmode': 'prefer', 'krbsrvname': 'postgres', 'target_session_attrs': 'any'}\n"
     ]
    }
   ],
   "source": [
    "p = Patient()"
   ]
  },
  {
   "cell_type": "code",
   "execution_count": 3,
   "id": "b8708793-afc6-49fe-ac85-d9512ed1dd06",
   "metadata": {},
   "outputs": [
    {
     "data": {
      "text/plain": [
       "['c61.M',\n",
       " 'c61.N',\n",
       " 'c61.T',\n",
       " 'c61.biochemical_progression',\n",
       " 'c61.gleason_grade_group',\n",
       " 'c61.psa',\n",
       " 'c61.radiation',\n",
       " 'c61.surgery',\n",
       " 'c61.surgical_margin',\n",
       " 'c61.target_progression',\n",
       " 'c61.tmp',\n",
       " 'c61.toxicity',\n",
       " 'diagnosis',\n",
       " 'dob',\n",
       " 'document_type',\n",
       " 'first_name',\n",
       " 'last_name',\n",
       " 'mrn']"
      ]
     },
     "execution_count": 3,
     "metadata": {},
     "output_type": "execute_result"
    }
   ],
   "source": [
    "mrn = 666666\n",
    "p.load_mrn(mrn)\n",
    "#lists all the attributes related to the patient with mrn 333333\n",
    "p.attributes"
   ]
  },
  {
   "cell_type": "code",
   "execution_count": 4,
   "id": "0ecb1a6b-1a56-42b7-aa30-6946dbe9c267",
   "metadata": {},
   "outputs": [
    {
     "data": {
      "text/plain": [
       "['diagnosis', 'dob', 'document_type', 'first_name', 'last_name', 'mrn']"
      ]
     },
     "execution_count": 4,
     "metadata": {},
     "output_type": "execute_result"
    }
   ],
   "source": [
    "mrn = 222222\n",
    "p.load_mrn(mrn)\n",
    "#lists all the attributes related to the patient with mrn 333333\n",
    "p.attributes"
   ]
  },
  {
   "cell_type": "code",
   "execution_count": 5,
   "id": "54fcc6d9-b1fa-473b-bdb5-b6bff14fc692",
   "metadata": {},
   "outputs": [
    {
     "data": {
      "text/plain": [
       "MRN: 222222\n",
       "\n",
       "diagnosis:\n",
       "C61;Malignant_neoplasm_of_prostate\n",
       "\n",
       "dob:\n",
       "1952-12-17\n",
       "\n",
       "document_type:\n",
       "         date     value\n",
       "0  2022-12-06  progress\n",
       "\n",
       "first_name:\n",
       "Smith2\n",
       "\n",
       "last_name:\n",
       "John2\n",
       "\n",
       "mrn:\n",
       "222222\n"
      ]
     },
     "execution_count": 5,
     "metadata": {},
     "output_type": "execute_result"
    }
   ],
   "source": [
    "#prints out all data relating to this patient\n",
    "p"
   ]
  },
  {
   "cell_type": "markdown",
   "id": "73b3be9c-5c1d-4735-a398-94c1a1d47f9c",
   "metadata": {},
   "source": [
    "## Pandas-like Indexing"
   ]
  },
  {
   "cell_type": "code",
   "execution_count": 6,
   "id": "87ecf0f4-f56f-4a65-8c0b-06f47d0b9d75",
   "metadata": {},
   "outputs": [
    {
     "data": {
      "text/plain": [
       "'John2'"
      ]
     },
     "execution_count": 6,
     "metadata": {},
     "output_type": "execute_result"
    }
   ],
   "source": [
    "#Two ways to index. This is the first way.\n",
    "p.last_name"
   ]
  },
  {
   "cell_type": "code",
   "execution_count": 7,
   "id": "593eec03-0c9d-44e5-a402-092ea5724946",
   "metadata": {},
   "outputs": [
    {
     "data": {
      "text/html": [
       "<div>\n",
       "<style scoped>\n",
       "    .dataframe tbody tr th:only-of-type {\n",
       "        vertical-align: middle;\n",
       "    }\n",
       "\n",
       "    .dataframe tbody tr th {\n",
       "        vertical-align: top;\n",
       "    }\n",
       "\n",
       "    .dataframe thead th {\n",
       "        text-align: right;\n",
       "    }\n",
       "</style>\n",
       "<table border=\"1\" class=\"dataframe\">\n",
       "  <thead>\n",
       "    <tr style=\"text-align: right;\">\n",
       "      <th></th>\n",
       "      <th>psa</th>\n",
       "      <th>date</th>\n",
       "      <th>unit</th>\n",
       "    </tr>\n",
       "  </thead>\n",
       "  <tbody>\n",
       "    <tr>\n",
       "      <th>0</th>\n",
       "      <td>0.063</td>\n",
       "      <td>2022-12-22</td>\n",
       "      <td>ng/mL</td>\n",
       "    </tr>\n",
       "    <tr>\n",
       "      <th>1</th>\n",
       "      <td>4.6</td>\n",
       "      <td>2018-02-01</td>\n",
       "      <td>ng/mL</td>\n",
       "    </tr>\n",
       "    <tr>\n",
       "      <th>2</th>\n",
       "      <td>0.2</td>\n",
       "      <td>2022-03-26</td>\n",
       "      <td>ng/mL</td>\n",
       "    </tr>\n",
       "  </tbody>\n",
       "</table>\n",
       "</div>"
      ],
      "text/plain": [
       "     psa        date   unit\n",
       "0  0.063  2022-12-22  ng/mL\n",
       "1    4.6  2018-02-01  ng/mL\n",
       "2    0.2  2022-03-26  ng/mL"
      ]
     },
     "execution_count": 7,
     "metadata": {},
     "output_type": "execute_result"
    }
   ],
   "source": [
    "#Second way to index\n",
    "p[\"c61.psa\"]"
   ]
  },
  {
   "cell_type": "code",
   "execution_count": 8,
   "id": "e1b45b3d-0257-42e3-84ee-29bf6950c51b",
   "metadata": {},
   "outputs": [
    {
     "name": "stdout",
     "output_type": "stream",
     "text": [
      "Smith2\n",
      "John2\n",
      "1952-12-17\n"
     ]
    }
   ],
   "source": [
    "#multi index.\n",
    "fname, lname, dob = p[\"first_name\", \"last_name\", \"dob\"]\n",
    "print(fname)\n",
    "print(lname)\n",
    "print(dob)"
   ]
  },
  {
   "cell_type": "markdown",
   "id": "9192528f-f222-438b-b612-695c5480d82c",
   "metadata": {},
   "source": [
    "## Example Use Case: PSA time series"
   ]
  },
  {
   "cell_type": "code",
   "execution_count": 12,
   "id": "7fb1574c-4956-4da5-9f56-f883d72d5f14",
   "metadata": {},
   "outputs": [
    {
     "data": {
      "text/html": [
       "<div>\n",
       "<style scoped>\n",
       "    .dataframe tbody tr th:only-of-type {\n",
       "        vertical-align: middle;\n",
       "    }\n",
       "\n",
       "    .dataframe tbody tr th {\n",
       "        vertical-align: top;\n",
       "    }\n",
       "\n",
       "    .dataframe thead th {\n",
       "        text-align: right;\n",
       "    }\n",
       "</style>\n",
       "<table border=\"1\" class=\"dataframe\">\n",
       "  <thead>\n",
       "    <tr style=\"text-align: right;\">\n",
       "      <th></th>\n",
       "      <th>psa</th>\n",
       "      <th>date</th>\n",
       "      <th>unit</th>\n",
       "    </tr>\n",
       "  </thead>\n",
       "  <tbody>\n",
       "    <tr>\n",
       "      <th>0</th>\n",
       "      <td>0.063</td>\n",
       "      <td>2022-12-22</td>\n",
       "      <td>ng/mL</td>\n",
       "    </tr>\n",
       "    <tr>\n",
       "      <th>1</th>\n",
       "      <td>4.6</td>\n",
       "      <td>2018-02-01</td>\n",
       "      <td>ng/mL</td>\n",
       "    </tr>\n",
       "    <tr>\n",
       "      <th>2</th>\n",
       "      <td>0.2</td>\n",
       "      <td>2022-03-26</td>\n",
       "      <td>ng/mL</td>\n",
       "    </tr>\n",
       "  </tbody>\n",
       "</table>\n",
       "</div>"
      ],
      "text/plain": [
       "     psa        date   unit\n",
       "0  0.063  2022-12-22  ng/mL\n",
       "1    4.6  2018-02-01  ng/mL\n",
       "2    0.2  2022-03-26  ng/mL"
      ]
     },
     "execution_count": 12,
     "metadata": {},
     "output_type": "execute_result"
    }
   ],
   "source": [
    "p[\"c61.psa\"]"
   ]
  },
  {
   "cell_type": "code",
   "execution_count": 13,
   "id": "37b80caa-e9f1-48e5-9027-d8d46da1731f",
   "metadata": {},
   "outputs": [
    {
     "data": {
      "text/plain": [
       "[<matplotlib.lines.Line2D at 0xffff6bb097b0>]"
      ]
     },
     "execution_count": 13,
     "metadata": {},
     "output_type": "execute_result"
    },
    {
     "data": {
      "image/png": "[encoded data removed]",
      "text/plain": [
       "<Figure size 1000x800 with 1 Axes>"
      ]
     },
     "metadata": {},
     "output_type": "display_data"
    }
   ],
   "source": [
    "import matplotlib.pyplot as plt\n",
    "fig,ax = plt.subplots()\n",
    "fig.set_size_inches(10,8)\n",
    "ax.tick_params(axis='x', labelrotation = 18)\n",
    "\n",
    "df = p[\"c61.psa\"]\n",
    "df= df.sort_values(by = \"date\")\n",
    "ax.plot(df[\"date\"], df[\"psa\"], marker = \"D\", linewidth = 2, markersize = 5)\n"
   ]
  },
  {
   "cell_type": "markdown",
   "id": "e93e62de-be79-489b-af80-43bf78a2c242",
   "metadata": {},
   "source": [
    "## One Last Method(For Debugging)"
   ]
  },
  {
   "cell_type": "code",
   "execution_count": 14,
   "id": "530e8daa-1be4-429b-8d35-810adb9b51bb",
   "metadata": {},
   "outputs": [
    {
     "name": "stdout",
     "output_type": "stream",
     "text": [
      "Help on method rawdata in module Patient:\n",
      "\n",
      "rawdata(attribute) method of Patient.Patient instance\n",
      "    Input: attribute -> Output: data for that attribute in a list of dictionaries. \n",
      "    The data returned is exactly how it is stored in the SQL database.\n",
      "    For example: [{'date': '2023-01-04', 'color': 'blue'}, {'date': '2023-01-12', 'color': 'green'}]\n",
      "    The rationale for the existence of this method is twofold.\n",
      "    1. There is a bug in setting an attribute due to a weird data entry or something else.\n",
      "    2. It is hard to access a single cell of data in a DataFrame.  A dictionary is a lot easier.\n",
      "\n"
     ]
    },
    {
     "data": {
      "text/plain": [
       "[]"
      ]
     },
     "execution_count": 14,
     "metadata": {},
     "output_type": "execute_result"
    }
   ],
   "source": [
    "help(p.rawdata)\n",
    "p.rawdata(\"c61.psa\")"
   ]
  },
  {
   "cell_type": "code",
   "execution_count": null,
   "id": "59e043b3-1302-4272-906e-72654908b8a4",
   "metadata": {},
   "outputs": [],
   "source": []
  }
 ],
 "metadata": {
  "kernelspec": {
   "display_name": "Python 3 (ipykernel)",
   "language": "python",
   "name": "python3"
  },
  "language_info": {
   "codemirror_mode": {
    "name": "ipython",
    "version": 3
   },
   "file_extension": ".py",
   "mimetype": "text/x-python",
   "name": "python",
   "nbconvert_exporter": "python",
   "pygments_lexer": "ipython3",
   "version": "3.10.8"
  }
 },
 "nbformat": 4,
 "nbformat_minor": 5
}
