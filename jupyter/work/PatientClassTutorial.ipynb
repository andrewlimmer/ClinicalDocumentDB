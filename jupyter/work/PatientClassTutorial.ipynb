{
 "cells": [
  {
   "cell_type": "markdown",
   "id": "bd15a7d4-ca9d-4247-847e-185a086fc7f5",
   "metadata": {},
   "source": [
    "# A Helpful Class to Interface With the Patient Data\n",
    "Based off of Pandas Dataframes"
   ]
  },
  {
   "cell_type": "code",
   "execution_count": 1,
   "id": "3d814e83-8bb3-4291-b5c9-fd496a7615a1",
   "metadata": {},
   "outputs": [],
   "source": [
    "from Patient import Patient\n",
    "from Database import Database"
   ]
  },
  {
   "cell_type": "markdown",
   "id": "85f6028f-15f1-470c-8d01-a47d7d12d13f",
   "metadata": {},
   "source": [
    "## Database Interface:\n",
    "Database Methods deal with database-wide searches, meaning they are functions that are not specific for a single patient.\n",
    "# Initialize Database"
   ]
  },
  {
   "cell_type": "code",
   "execution_count": null,
   "id": "5e0327cc-b215-400e-b076-0eb5b5c59ec2",
   "metadata": {},
   "outputs": [],
   "source": [
    "d = Database()"
   ]
  },
  {
   "cell_type": "code",
   "execution_count": null,
   "id": "d6044f47-c1c8-46c2-bc60-fd1be614c92c",
   "metadata": {},
   "outputs": [],
   "source": []
  },
  {
   "cell_type": "markdown",
   "id": "e1f0994c-8bd8-4d2e-b873-0dc5d0549a2b",
   "metadata": {},
   "source": [
    "### 1. fetch_mrns()\n",
    "Return a list of all the mrns found in the database\n"
   ]
  },
  {
   "cell_type": "code",
   "execution_count": null,
   "id": "87ce653e-87c5-420e-b9a1-301dbc481119",
   "metadata": {},
   "outputs": [],
   "source": [
    "d.fetch_mrns()"
   ]
  },
  {
   "cell_type": "markdown",
   "id": "04cac77e-0131-4f55-a2cf-f10ca0a97651",
   "metadata": {},
   "source": [
    "### 2. search_name\n",
    "MRN Lookup by Name.  Case-insensitive\n"
   ]
  },
  {
   "cell_type": "code",
   "execution_count": null,
   "id": "40b7c29d-da46-4df8-9a5b-99b513762ec2",
   "metadata": {},
   "outputs": [],
   "source": [
    "d.search_name()"
   ]
  },
  {
   "cell_type": "code",
   "execution_count": null,
   "id": "d057ccfd-0dec-4d7d-bf61-4f014b4c2e95",
   "metadata": {},
   "outputs": [],
   "source": [
    "#Can specify last name \n",
    "d.search_name(last_name = \"Funk1\")"
   ]
  },
  {
   "cell_type": "code",
   "execution_count": null,
   "id": "971055aa-5f48-47a5-858f-bfdfae326dcd",
   "metadata": {},
   "outputs": [],
   "source": [
    "#Specify First Name \n",
    "d.search_name(first_name = \"Smith1\")"
   ]
  },
  {
   "cell_type": "code",
   "execution_count": null,
   "id": "b90cf37c-aa6a-4cba-9227-ffd6a6434fa9",
   "metadata": {},
   "outputs": [],
   "source": [
    "#Or Both\n",
    "d.search_name(first_name = \"john\", last_name = \"doe\")"
   ]
  },
  {
   "cell_type": "markdown",
   "id": "316a9e32-98b4-4c33-a6ce-8c1e2292f34f",
   "metadata": {},
   "source": [
    "### 3. search()\n",
    "Lookup by tag.  Returns all data that matches a given tag.  CASE-SENSITIVE"
   ]
  },
  {
   "cell_type": "code",
   "execution_count": null,
   "id": "281565cf-34c7-4924-ade1-fef92423c542",
   "metadata": {},
   "outputs": [],
   "source": [
    "d.search(\"diagnosis\")"
   ]
  },
  {
   "cell_type": "code",
   "execution_count": null,
   "id": "ad6a065a-c793-434b-bf24-5189fa1da766",
   "metadata": {},
   "outputs": [],
   "source": [
    "d.search(\"dob\")"
   ]
  },
  {
   "cell_type": "markdown",
   "id": "63ce2d84-b6d0-4f1f-a9dd-fe8c4a29d30a",
   "metadata": {},
   "source": [
    "## Patient Interface\n",
    "A simplistic way to retrieve the data for each patient"
   ]
  },
  {
   "cell_type": "code",
   "execution_count": 4,
   "id": "48a815c5-bf13-4340-be48-df0b5cd942c0",
   "metadata": {},
   "outputs": [
    {
     "name": "stdout",
     "output_type": "stream",
     "text": [
      "Connect To Database\n"
     ]
    },
    {
     "name": "stdin",
     "output_type": "stream",
     "text": [
      "username: ········\n",
      "encryption key: ········\n"
     ]
    },
    {
     "name": "stdout",
     "output_type": "stream",
     "text": [
      "Connected: {'user': 'admin', 'channel_binding': 'prefer', 'dbname': 'clinical', 'host': 'clinical_db', 'port': '5432', 'options': '-c search_path=clinical_document,rad_onc,public', 'sslmode': 'require', 'sslcompression': '0', 'sslsni': '1', 'ssl_min_protocol_version': 'TLSv1.2', 'gssencmode': 'prefer', 'krbsrvname': 'postgres', 'target_session_attrs': 'any'}\n"
     ]
    }
   ],
   "source": [
    "p = Patient()"
   ]
  },
  {
   "cell_type": "code",
   "execution_count": 5,
   "id": "b8708793-afc6-49fe-ac85-d9512ed1dd06",
   "metadata": {},
   "outputs": [
    {
     "ename": "AttributeError",
     "evalue": "'Patient' object has no attribute 'cursor'",
     "output_type": "error",
     "traceback": [
      "\u001b[0;31m---------------------------------------------------------------------------\u001b[0m",
      "\u001b[0;31mAttributeError\u001b[0m                            Traceback (most recent call last)",
      "Cell \u001b[0;32mIn[5], line 2\u001b[0m\n\u001b[1;32m      1\u001b[0m mrn \u001b[38;5;241m=\u001b[39m \u001b[38;5;241m666666\u001b[39m\n\u001b[0;32m----> 2\u001b[0m \u001b[43mp\u001b[49m\u001b[38;5;241;43m.\u001b[39;49m\u001b[43mload_mrn\u001b[49m\u001b[43m(\u001b[49m\u001b[43mmrn\u001b[49m\u001b[43m)\u001b[49m\n\u001b[1;32m      3\u001b[0m \u001b[38;5;66;03m#lists all the attributes related to the patient with mrn 333333\u001b[39;00m\n\u001b[1;32m      4\u001b[0m p\u001b[38;5;241m.\u001b[39mattributes\n",
      "File \u001b[0;32m~/Patient.py:65\u001b[0m, in \u001b[0;36mPatient.load_mrn\u001b[0;34m(self, mrn)\u001b[0m\n\u001b[1;32m     63\u001b[0m \u001b[38;5;66;03m#Will iterate through all tags found in the database, and collect data from each of them.\u001b[39;00m\n\u001b[1;32m     64\u001b[0m \u001b[38;5;28;01mfor\u001b[39;00m attribute \u001b[38;5;129;01min\u001b[39;00m \u001b[38;5;28mself\u001b[39m\u001b[38;5;241m.\u001b[39mattributes:\n\u001b[0;32m---> 65\u001b[0m     rawdata \u001b[38;5;241m=\u001b[39m \u001b[38;5;28;43mself\u001b[39;49m\u001b[38;5;241;43m.\u001b[39;49m\u001b[43mrawdata\u001b[49m\u001b[43m(\u001b[49m\u001b[43mattribute\u001b[49m\u001b[43m)\u001b[49m\n\u001b[1;32m     66\u001b[0m     \u001b[38;5;28;01mtry\u001b[39;00m:\n\u001b[1;32m     67\u001b[0m         formatted_data \u001b[38;5;241m=\u001b[39m \u001b[38;5;28mself\u001b[39m\u001b[38;5;241m.\u001b[39m__formatdata(rawdata)\n",
      "File \u001b[0;32m~/Patient.py:85\u001b[0m, in \u001b[0;36mPatient.rawdata\u001b[0;34m(self, attribute)\u001b[0m\n\u001b[1;32m     82\u001b[0m cursor \u001b[38;5;241m=\u001b[39m \u001b[38;5;28mself\u001b[39m\u001b[38;5;241m.\u001b[39mconnection\u001b[38;5;241m.\u001b[39mcursor()\n\u001b[1;32m     84\u001b[0m sql \u001b[38;5;241m=\u001b[39m \u001b[38;5;124mf\u001b[39m\u001b[38;5;124m\"\u001b[39m\u001b[38;5;124m SELECT attribute FROM clinical_document.q_document WHERE mrn = \u001b[39m\u001b[38;5;124m'\u001b[39m\u001b[38;5;132;01m{\u001b[39;00m\u001b[38;5;28mself\u001b[39m\u001b[38;5;241m.\u001b[39mmrn\u001b[38;5;132;01m}\u001b[39;00m\u001b[38;5;124m'\u001b[39m\u001b[38;5;124m AND tag = \u001b[39m\u001b[38;5;124m'\u001b[39m\u001b[38;5;132;01m{\u001b[39;00mattribute\u001b[38;5;132;01m}\u001b[39;00m\u001b[38;5;124m'\u001b[39m\u001b[38;5;124m\"\u001b[39m \u001b[38;5;66;03m#Gets all rows of data for each attribute\u001b[39;00m\n\u001b[0;32m---> 85\u001b[0m \u001b[38;5;28;43mself\u001b[39;49m\u001b[38;5;241;43m.\u001b[39;49m\u001b[43mcursor\u001b[49m\u001b[38;5;241m.\u001b[39mexecute(sql)\n\u001b[1;32m     86\u001b[0m unformatted_data \u001b[38;5;241m=\u001b[39m \u001b[38;5;28mself\u001b[39m\u001b[38;5;241m.\u001b[39mcursor\u001b[38;5;241m.\u001b[39mfetchall()\n\u001b[1;32m     87\u001b[0m cursor\u001b[38;5;241m.\u001b[39mclose()\n",
      "\u001b[0;31mAttributeError\u001b[0m: 'Patient' object has no attribute 'cursor'"
     ]
    }
   ],
   "source": [
    "mrn = 666666\n",
    "p.load_mrn(mrn)\n",
    "#lists all the attributes related to the patient with mrn 333333\n",
    "p.attributes"
   ]
  },
  {
   "cell_type": "code",
   "execution_count": null,
   "id": "0ecb1a6b-1a56-42b7-aa30-6946dbe9c267",
   "metadata": {},
   "outputs": [],
   "source": [
    "mrn = 222222\n",
    "p.load_mrn(mrn)\n",
    "#lists all the attributes related to the patient with mrn 333333\n",
    "p.attributes"
   ]
  },
  {
   "cell_type": "code",
   "execution_count": null,
   "id": "54fcc6d9-b1fa-473b-bdb5-b6bff14fc692",
   "metadata": {},
   "outputs": [],
   "source": [
    "#prints out all data relating to this patient\n",
    "p"
   ]
  },
  {
   "cell_type": "markdown",
   "id": "73b3be9c-5c1d-4735-a398-94c1a1d47f9c",
   "metadata": {},
   "source": [
    "## Pandas-like Indexing"
   ]
  },
  {
   "cell_type": "code",
   "execution_count": null,
   "id": "87ecf0f4-f56f-4a65-8c0b-06f47d0b9d75",
   "metadata": {},
   "outputs": [],
   "source": [
    "#Two ways to index. This is the first way.\n",
    "p.last_name"
   ]
  },
  {
   "cell_type": "code",
   "execution_count": null,
   "id": "593eec03-0c9d-44e5-a402-092ea5724946",
   "metadata": {},
   "outputs": [],
   "source": [
    "#Second way to index\n",
    "p[\"c61.psa\"]"
   ]
  },
  {
   "cell_type": "code",
   "execution_count": null,
   "id": "e1b45b3d-0257-42e3-84ee-29bf6950c51b",
   "metadata": {},
   "outputs": [],
   "source": [
    "#multi index.\n",
    "fname, lname, dob = p[\"first_name\", \"last_name\", \"dob\"]\n",
    "print(fname)\n",
    "print(lname)\n",
    "print(dob)"
   ]
  },
  {
   "cell_type": "markdown",
   "id": "9192528f-f222-438b-b612-695c5480d82c",
   "metadata": {},
   "source": [
    "## Example Use Case: PSA time series"
   ]
  },
  {
   "cell_type": "code",
   "execution_count": null,
   "id": "7fb1574c-4956-4da5-9f56-f883d72d5f14",
   "metadata": {},
   "outputs": [],
   "source": [
    "p = Patient(222222)\n",
    "p[\"c61.psa\"]"
   ]
  },
  {
   "cell_type": "code",
   "execution_count": null,
   "id": "37b80caa-e9f1-48e5-9027-d8d46da1731f",
   "metadata": {},
   "outputs": [],
   "source": [
    "import matplotlib.pyplot as plt\n",
    "fig,ax = plt.subplots()\n",
    "fig.set_size_inches(10,8)\n",
    "ax.tick_params(axis='x', labelrotation = 18)\n",
    "\n",
    "df = p[\"c61.psa\"]\n",
    "df= df.sort_values(by = \"date\")\n",
    "ax.plot(df[\"date\"], df[\"psa\"], marker = \"D\", linewidth = 2, markersize = 5)\n"
   ]
  },
  {
   "cell_type": "markdown",
   "id": "e93e62de-be79-489b-af80-43bf78a2c242",
   "metadata": {},
   "source": [
    "## One Last Method(For Debugging)"
   ]
  },
  {
   "cell_type": "code",
   "execution_count": null,
   "id": "530e8daa-1be4-429b-8d35-810adb9b51bb",
   "metadata": {},
   "outputs": [],
   "source": [
    "help(p.rawdata)\n",
    "p.rawdata(\"c61.psa\")"
   ]
  },
  {
   "cell_type": "code",
   "execution_count": null,
   "id": "59e043b3-1302-4272-906e-72654908b8a4",
   "metadata": {},
   "outputs": [],
   "source": []
  }
 ],
 "metadata": {
  "kernelspec": {
   "display_name": "Python 3 (ipykernel)",
   "language": "python",
   "name": "python3"
  },
  "language_info": {
   "codemirror_mode": {
    "name": "ipython",
    "version": 3
   },
   "file_extension": ".py",
   "mimetype": "text/x-python",
   "name": "python",
   "nbconvert_exporter": "python",
   "pygments_lexer": "ipython3",
   "version": "3.10.8"
  }
 },
 "nbformat": 4,
 "nbformat_minor": 5
}
