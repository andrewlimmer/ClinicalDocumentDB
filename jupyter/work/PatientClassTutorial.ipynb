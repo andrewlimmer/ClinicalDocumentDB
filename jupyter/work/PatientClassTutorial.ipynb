{
 "cells": [
  {
   "cell_type": "markdown",
   "id": "bd15a7d4-ca9d-4247-847e-185a086fc7f5",
   "metadata": {},
   "source": [
    "# A Helpful Class to Interface With the Patient Data\n",
    "Based off of Pandas Dataframes"
   ]
  },
  {
   "cell_type": "code",
   "execution_count": 1,
   "id": "3d814e83-8bb3-4291-b5c9-fd496a7615a1",
   "metadata": {},
   "outputs": [],
   "source": [
    "from Patient import Patient\n",
    "from Database import Database"
   ]
  },
  {
   "cell_type": "markdown",
   "id": "85f6028f-15f1-470c-8d01-a47d7d12d13f",
   "metadata": {},
   "source": [
    "## Database Interface:\n",
    "Database Methods deal with database-wide searches, meaning they are functions that are not specific for a single patient.\n",
    "# Initialize Database"
   ]
  },
  {
   "cell_type": "code",
   "execution_count": 2,
   "id": "5e0327cc-b215-400e-b076-0eb5b5c59ec2",
   "metadata": {},
   "outputs": [
    {
     "name": "stdout",
     "output_type": "stream",
     "text": [
      "Connect To Database\n"
     ]
    },
    {
     "name": "stdin",
     "output_type": "stream",
     "text": [
      "username: ········\n",
      "encryption key: ········\n"
     ]
    },
    {
     "name": "stdout",
     "output_type": "stream",
     "text": [
      "Connected: {'user': 'admin', 'channel_binding': 'prefer', 'dbname': 'clinical', 'host': 'clinical_db', 'port': '5432', 'options': '-c search_path=clinical_document,rad_onc,public', 'sslmode': 'require', 'sslcompression': '0', 'sslsni': '1', 'ssl_min_protocol_version': 'TLSv1.2', 'gssencmode': 'prefer', 'krbsrvname': 'postgres', 'target_session_attrs': 'any'}\n"
     ]
    }
   ],
   "source": [
    "d = Database()"
   ]
  },
  {
   "cell_type": "code",
   "execution_count": null,
   "id": "d6044f47-c1c8-46c2-bc60-fd1be614c92c",
   "metadata": {},
   "outputs": [],
   "source": []
  },
  {
   "cell_type": "markdown",
   "id": "e1f0994c-8bd8-4d2e-b873-0dc5d0549a2b",
   "metadata": {},
   "source": [
    "### 1. fetch_mrns()\n",
    "Return a list of all the mrns found in the database\n"
   ]
  },
  {
   "cell_type": "code",
   "execution_count": 3,
   "id": "87ce653e-87c5-420e-b9a1-301dbc481119",
   "metadata": {},
   "outputs": [
    {
     "data": {
      "text/plain": [
       "[]"
      ]
     },
     "execution_count": 3,
     "metadata": {},
     "output_type": "execute_result"
    }
   ],
   "source": [
    "d.fetch_mrns()"
   ]
  },
  {
   "cell_type": "markdown",
   "id": "04cac77e-0131-4f55-a2cf-f10ca0a97651",
   "metadata": {},
   "source": [
    "### 2. search_name\n",
    "MRN Lookup by Name.  Case-insensitive\n"
   ]
  },
  {
   "cell_type": "code",
   "execution_count": 4,
   "id": "40b7c29d-da46-4df8-9a5b-99b513762ec2",
   "metadata": {},
   "outputs": [
    {
     "data": {
      "text/html": [
       "<div>\n",
       "<style scoped>\n",
       "    .dataframe tbody tr th:only-of-type {\n",
       "        vertical-align: middle;\n",
       "    }\n",
       "\n",
       "    .dataframe tbody tr th {\n",
       "        vertical-align: top;\n",
       "    }\n",
       "\n",
       "    .dataframe thead th {\n",
       "        text-align: right;\n",
       "    }\n",
       "</style>\n",
       "<table border=\"1\" class=\"dataframe\">\n",
       "  <thead>\n",
       "    <tr style=\"text-align: right;\">\n",
       "      <th></th>\n",
       "      <th>fname</th>\n",
       "      <th>lname</th>\n",
       "    </tr>\n",
       "    <tr>\n",
       "      <th>mrn</th>\n",
       "      <th></th>\n",
       "      <th></th>\n",
       "    </tr>\n",
       "  </thead>\n",
       "  <tbody>\n",
       "    <tr>\n",
       "      <th>None</th>\n",
       "      <td>None</td>\n",
       "      <td>None</td>\n",
       "    </tr>\n",
       "  </tbody>\n",
       "</table>\n",
       "</div>"
      ],
      "text/plain": [
       "     fname lname\n",
       "mrn             \n",
       "None  None  None"
      ]
     },
     "execution_count": 4,
     "metadata": {},
     "output_type": "execute_result"
    }
   ],
   "source": [
    "d.search_name()"
   ]
  },
  {
   "cell_type": "code",
   "execution_count": 5,
   "id": "d057ccfd-0dec-4d7d-bf61-4f014b4c2e95",
   "metadata": {},
   "outputs": [
    {
     "ename": "KeyError",
     "evalue": "\"None of [Index([None], dtype='object')] are in the [columns]\"",
     "output_type": "error",
     "traceback": [
      "\u001b[0;31m---------------------------------------------------------------------------\u001b[0m",
      "\u001b[0;31mKeyError\u001b[0m                                  Traceback (most recent call last)",
      "Cell \u001b[0;32mIn[5], line 2\u001b[0m\n\u001b[1;32m      1\u001b[0m \u001b[38;5;66;03m#Can specify last name \u001b[39;00m\n\u001b[0;32m----> 2\u001b[0m \u001b[43md\u001b[49m\u001b[38;5;241;43m.\u001b[39;49m\u001b[43msearch_name\u001b[49m\u001b[43m(\u001b[49m\u001b[43mlast_name\u001b[49m\u001b[43m \u001b[49m\u001b[38;5;241;43m=\u001b[39;49m\u001b[43m \u001b[49m\u001b[38;5;124;43m\"\u001b[39;49m\u001b[38;5;124;43mSmith2\u001b[39;49m\u001b[38;5;124;43m\"\u001b[39;49m\u001b[43m)\u001b[49m\n",
      "File \u001b[0;32m~/Database.py:71\u001b[0m, in \u001b[0;36mDatabase.search_name\u001b[0;34m(self, first_name, last_name)\u001b[0m\n\u001b[1;32m     69\u001b[0m     \u001b[38;5;28;01mreturn\u001b[39;00m name_df[name_df[\u001b[38;5;124m\"\u001b[39m\u001b[38;5;124mfname\u001b[39m\u001b[38;5;124m\"\u001b[39m]\u001b[38;5;241m.\u001b[39mstr\u001b[38;5;241m.\u001b[39mcontains(first_name, case \u001b[38;5;241m=\u001b[39m \u001b[38;5;28;01mFalse\u001b[39;00m)]\n\u001b[1;32m     70\u001b[0m \u001b[38;5;28;01melif\u001b[39;00m \u001b[38;5;129;01mnot\u001b[39;00m first_name \u001b[38;5;129;01mand\u001b[39;00m last_name:\n\u001b[0;32m---> 71\u001b[0m     \u001b[38;5;28;01mreturn\u001b[39;00m \u001b[43mname_df\u001b[49m\u001b[43m[\u001b[49m\u001b[43mname_df\u001b[49m\u001b[43m[\u001b[49m\u001b[38;5;124;43m\"\u001b[39;49m\u001b[38;5;124;43mlname\u001b[39;49m\u001b[38;5;124;43m\"\u001b[39;49m\u001b[43m]\u001b[49m\u001b[38;5;241;43m.\u001b[39;49m\u001b[43mstr\u001b[49m\u001b[38;5;241;43m.\u001b[39;49m\u001b[43mcontains\u001b[49m\u001b[43m(\u001b[49m\u001b[43mlast_name\u001b[49m\u001b[43m,\u001b[49m\u001b[43m \u001b[49m\u001b[43mcase\u001b[49m\u001b[43m \u001b[49m\u001b[38;5;241;43m=\u001b[39;49m\u001b[43m \u001b[49m\u001b[38;5;28;43;01mFalse\u001b[39;49;00m\u001b[43m)\u001b[49m\u001b[43m]\u001b[49m\n\u001b[1;32m     72\u001b[0m \u001b[38;5;28;01melse\u001b[39;00m:\n\u001b[1;32m     73\u001b[0m     \u001b[38;5;28;01mreturn\u001b[39;00m name_df[(name_df[\u001b[38;5;124m\"\u001b[39m\u001b[38;5;124mfname\u001b[39m\u001b[38;5;124m\"\u001b[39m]\u001b[38;5;241m.\u001b[39mstr\u001b[38;5;241m.\u001b[39mcontains(first_name, case \u001b[38;5;241m=\u001b[39m \u001b[38;5;28;01mFalse\u001b[39;00m)) \u001b[38;5;241m&\u001b[39m (name_df[\u001b[38;5;124m\"\u001b[39m\u001b[38;5;124mlname\u001b[39m\u001b[38;5;124m\"\u001b[39m]\u001b[38;5;241m.\u001b[39mstr\u001b[38;5;241m.\u001b[39mcontains(last_name, case \u001b[38;5;241m=\u001b[39m \u001b[38;5;28;01mFalse\u001b[39;00m))]\n",
      "File \u001b[0;32m/opt/conda/lib/python3.10/site-packages/pandas/core/frame.py:3813\u001b[0m, in \u001b[0;36mDataFrame.__getitem__\u001b[0;34m(self, key)\u001b[0m\n\u001b[1;32m   3811\u001b[0m     \u001b[38;5;28;01mif\u001b[39;00m is_iterator(key):\n\u001b[1;32m   3812\u001b[0m         key \u001b[38;5;241m=\u001b[39m \u001b[38;5;28mlist\u001b[39m(key)\n\u001b[0;32m-> 3813\u001b[0m     indexer \u001b[38;5;241m=\u001b[39m \u001b[38;5;28;43mself\u001b[39;49m\u001b[38;5;241;43m.\u001b[39;49m\u001b[43mcolumns\u001b[49m\u001b[38;5;241;43m.\u001b[39;49m\u001b[43m_get_indexer_strict\u001b[49m\u001b[43m(\u001b[49m\u001b[43mkey\u001b[49m\u001b[43m,\u001b[49m\u001b[43m \u001b[49m\u001b[38;5;124;43m\"\u001b[39;49m\u001b[38;5;124;43mcolumns\u001b[39;49m\u001b[38;5;124;43m\"\u001b[39;49m\u001b[43m)\u001b[49m[\u001b[38;5;241m1\u001b[39m]\n\u001b[1;32m   3815\u001b[0m \u001b[38;5;66;03m# take() does not accept boolean indexers\u001b[39;00m\n\u001b[1;32m   3816\u001b[0m \u001b[38;5;28;01mif\u001b[39;00m \u001b[38;5;28mgetattr\u001b[39m(indexer, \u001b[38;5;124m\"\u001b[39m\u001b[38;5;124mdtype\u001b[39m\u001b[38;5;124m\"\u001b[39m, \u001b[38;5;28;01mNone\u001b[39;00m) \u001b[38;5;241m==\u001b[39m \u001b[38;5;28mbool\u001b[39m:\n",
      "File \u001b[0;32m/opt/conda/lib/python3.10/site-packages/pandas/core/indexes/base.py:6070\u001b[0m, in \u001b[0;36mIndex._get_indexer_strict\u001b[0;34m(self, key, axis_name)\u001b[0m\n\u001b[1;32m   6067\u001b[0m \u001b[38;5;28;01melse\u001b[39;00m:\n\u001b[1;32m   6068\u001b[0m     keyarr, indexer, new_indexer \u001b[38;5;241m=\u001b[39m \u001b[38;5;28mself\u001b[39m\u001b[38;5;241m.\u001b[39m_reindex_non_unique(keyarr)\n\u001b[0;32m-> 6070\u001b[0m \u001b[38;5;28;43mself\u001b[39;49m\u001b[38;5;241;43m.\u001b[39;49m\u001b[43m_raise_if_missing\u001b[49m\u001b[43m(\u001b[49m\u001b[43mkeyarr\u001b[49m\u001b[43m,\u001b[49m\u001b[43m \u001b[49m\u001b[43mindexer\u001b[49m\u001b[43m,\u001b[49m\u001b[43m \u001b[49m\u001b[43maxis_name\u001b[49m\u001b[43m)\u001b[49m\n\u001b[1;32m   6072\u001b[0m keyarr \u001b[38;5;241m=\u001b[39m \u001b[38;5;28mself\u001b[39m\u001b[38;5;241m.\u001b[39mtake(indexer)\n\u001b[1;32m   6073\u001b[0m \u001b[38;5;28;01mif\u001b[39;00m \u001b[38;5;28misinstance\u001b[39m(key, Index):\n\u001b[1;32m   6074\u001b[0m     \u001b[38;5;66;03m# GH 42790 - Preserve name from an Index\u001b[39;00m\n",
      "File \u001b[0;32m/opt/conda/lib/python3.10/site-packages/pandas/core/indexes/base.py:6130\u001b[0m, in \u001b[0;36mIndex._raise_if_missing\u001b[0;34m(self, key, indexer, axis_name)\u001b[0m\n\u001b[1;32m   6128\u001b[0m     \u001b[38;5;28;01mif\u001b[39;00m use_interval_msg:\n\u001b[1;32m   6129\u001b[0m         key \u001b[38;5;241m=\u001b[39m \u001b[38;5;28mlist\u001b[39m(key)\n\u001b[0;32m-> 6130\u001b[0m     \u001b[38;5;28;01mraise\u001b[39;00m \u001b[38;5;167;01mKeyError\u001b[39;00m(\u001b[38;5;124mf\u001b[39m\u001b[38;5;124m\"\u001b[39m\u001b[38;5;124mNone of [\u001b[39m\u001b[38;5;132;01m{\u001b[39;00mkey\u001b[38;5;132;01m}\u001b[39;00m\u001b[38;5;124m] are in the [\u001b[39m\u001b[38;5;132;01m{\u001b[39;00maxis_name\u001b[38;5;132;01m}\u001b[39;00m\u001b[38;5;124m]\u001b[39m\u001b[38;5;124m\"\u001b[39m)\n\u001b[1;32m   6132\u001b[0m not_found \u001b[38;5;241m=\u001b[39m \u001b[38;5;28mlist\u001b[39m(ensure_index(key)[missing_mask\u001b[38;5;241m.\u001b[39mnonzero()[\u001b[38;5;241m0\u001b[39m]]\u001b[38;5;241m.\u001b[39munique())\n\u001b[1;32m   6133\u001b[0m \u001b[38;5;28;01mraise\u001b[39;00m \u001b[38;5;167;01mKeyError\u001b[39;00m(\u001b[38;5;124mf\u001b[39m\u001b[38;5;124m\"\u001b[39m\u001b[38;5;132;01m{\u001b[39;00mnot_found\u001b[38;5;132;01m}\u001b[39;00m\u001b[38;5;124m not in index\u001b[39m\u001b[38;5;124m\"\u001b[39m)\n",
      "\u001b[0;31mKeyError\u001b[0m: \"None of [Index([None], dtype='object')] are in the [columns]\""
     ]
    }
   ],
   "source": [
    "#Can specify last name \n",
    "d.search_name(last_name = \"Smith2\")"
   ]
  },
  {
   "cell_type": "code",
   "execution_count": null,
   "id": "971055aa-5f48-47a5-858f-bfdfae326dcd",
   "metadata": {},
   "outputs": [],
   "source": [
    "#Specify First Name \n",
    "d.search_name(first_name = \"john\")"
   ]
  },
  {
   "cell_type": "code",
   "execution_count": null,
   "id": "b90cf37c-aa6a-4cba-9227-ffd6a6434fa9",
   "metadata": {},
   "outputs": [],
   "source": [
    "#Or Both\n",
    "d.search_name(first_name = \"john\", last_name = \"doe\")"
   ]
  },
  {
   "cell_type": "markdown",
   "id": "316a9e32-98b4-4c33-a6ce-8c1e2292f34f",
   "metadata": {},
   "source": [
    "### 3. search()\n",
    "Lookup by tag.  Returns all data that matches a given tag.  CASE-SENSITIVE"
   ]
  },
  {
   "cell_type": "code",
   "execution_count": 6,
   "id": "281565cf-34c7-4924-ade1-fef92423c542",
   "metadata": {},
   "outputs": [
    {
     "data": {
      "text/html": [
       "<div>\n",
       "<style scoped>\n",
       "    .dataframe tbody tr th:only-of-type {\n",
       "        vertical-align: middle;\n",
       "    }\n",
       "\n",
       "    .dataframe tbody tr th {\n",
       "        vertical-align: top;\n",
       "    }\n",
       "\n",
       "    .dataframe thead th {\n",
       "        text-align: right;\n",
       "    }\n",
       "</style>\n",
       "<table border=\"1\" class=\"dataframe\">\n",
       "  <thead>\n",
       "    <tr style=\"text-align: right;\">\n",
       "      <th></th>\n",
       "    </tr>\n",
       "  </thead>\n",
       "  <tbody>\n",
       "  </tbody>\n",
       "</table>\n",
       "</div>"
      ],
      "text/plain": [
       "Empty DataFrame\n",
       "Columns: []\n",
       "Index: []"
      ]
     },
     "execution_count": 6,
     "metadata": {},
     "output_type": "execute_result"
    }
   ],
   "source": [
    "d.search(\"diagnosis\")"
   ]
  },
  {
   "cell_type": "code",
   "execution_count": 7,
   "id": "ad6a065a-c793-434b-bf24-5189fa1da766",
   "metadata": {},
   "outputs": [
    {
     "data": {
      "text/html": [
       "<div>\n",
       "<style scoped>\n",
       "    .dataframe tbody tr th:only-of-type {\n",
       "        vertical-align: middle;\n",
       "    }\n",
       "\n",
       "    .dataframe tbody tr th {\n",
       "        vertical-align: top;\n",
       "    }\n",
       "\n",
       "    .dataframe thead th {\n",
       "        text-align: right;\n",
       "    }\n",
       "</style>\n",
       "<table border=\"1\" class=\"dataframe\">\n",
       "  <thead>\n",
       "    <tr style=\"text-align: right;\">\n",
       "      <th></th>\n",
       "    </tr>\n",
       "  </thead>\n",
       "  <tbody>\n",
       "  </tbody>\n",
       "</table>\n",
       "</div>"
      ],
      "text/plain": [
       "Empty DataFrame\n",
       "Columns: []\n",
       "Index: []"
      ]
     },
     "execution_count": 7,
     "metadata": {},
     "output_type": "execute_result"
    }
   ],
   "source": [
    "d.search(\"dob\")"
   ]
  },
  {
   "cell_type": "markdown",
   "id": "63ce2d84-b6d0-4f1f-a9dd-fe8c4a29d30a",
   "metadata": {},
   "source": [
    "## Patient Interface\n",
    "A simplistic way to retrieve the data for each patient"
   ]
  },
  {
   "cell_type": "code",
   "execution_count": 8,
   "id": "48a815c5-bf13-4340-be48-df0b5cd942c0",
   "metadata": {},
   "outputs": [
    {
     "name": "stdout",
     "output_type": "stream",
     "text": [
      "Connect To Database\n"
     ]
    },
    {
     "name": "stdin",
     "output_type": "stream",
     "text": [
      "username: ········\n",
      "encryption key: ········\n"
     ]
    },
    {
     "name": "stdout",
     "output_type": "stream",
     "text": [
      "Connected: {'user': 'admin', 'channel_binding': 'prefer', 'dbname': 'clinical', 'host': 'clinical_db', 'port': '5432', 'options': '-c search_path=clinical_document,rad_onc,public', 'sslmode': 'require', 'sslcompression': '0', 'sslsni': '1', 'ssl_min_protocol_version': 'TLSv1.2', 'gssencmode': 'prefer', 'krbsrvname': 'postgres', 'target_session_attrs': 'any'}\n"
     ]
    }
   ],
   "source": [
    "p = Patient()"
   ]
  },
  {
   "cell_type": "code",
   "execution_count": 9,
   "id": "b8708793-afc6-49fe-ac85-d9512ed1dd06",
   "metadata": {},
   "outputs": [
    {
     "ename": "AttributeError",
     "evalue": "'Patient' object has no attribute 'cursor'",
     "output_type": "error",
     "traceback": [
      "\u001b[0;31m---------------------------------------------------------------------------\u001b[0m",
      "\u001b[0;31mAttributeError\u001b[0m                            Traceback (most recent call last)",
      "Cell \u001b[0;32mIn[9], line 2\u001b[0m\n\u001b[1;32m      1\u001b[0m mrn \u001b[38;5;241m=\u001b[39m \u001b[38;5;241m222222\u001b[39m\n\u001b[0;32m----> 2\u001b[0m \u001b[43mp\u001b[49m\u001b[38;5;241;43m.\u001b[39;49m\u001b[43mload_mrn\u001b[49m\u001b[43m(\u001b[49m\u001b[43mmrn\u001b[49m\u001b[43m)\u001b[49m\n\u001b[1;32m      3\u001b[0m \u001b[38;5;66;03m#lists all the attributes related to the patient with mrn 333333\u001b[39;00m\n\u001b[1;32m      4\u001b[0m p\u001b[38;5;241m.\u001b[39mattributes\n",
      "File \u001b[0;32m~/Patient.py:44\u001b[0m, in \u001b[0;36mPatient.load_mrn\u001b[0;34m(self, mrn)\u001b[0m\n\u001b[1;32m     42\u001b[0m \u001b[38;5;66;03m#First check if mrn exists\u001b[39;00m\n\u001b[1;32m     43\u001b[0m sql \u001b[38;5;241m=\u001b[39m \u001b[38;5;124mf\u001b[39m\u001b[38;5;124m\"\u001b[39m\u001b[38;5;124mSELECT exists (SELECT 1 FROM clinical_document.q_document WHERE mrn = \u001b[39m\u001b[38;5;124m'\u001b[39m\u001b[38;5;132;01m{\u001b[39;00mmrn\u001b[38;5;132;01m}\u001b[39;00m\u001b[38;5;124m'\u001b[39m\u001b[38;5;124m LIMIT 1)\u001b[39m\u001b[38;5;124m\"\u001b[39m\n\u001b[0;32m---> 44\u001b[0m \u001b[38;5;28;43mself\u001b[39;49m\u001b[38;5;241;43m.\u001b[39;49m\u001b[43mcursor\u001b[49m\u001b[38;5;241m.\u001b[39mexecute(sql)\n\u001b[1;32m     45\u001b[0m data \u001b[38;5;241m=\u001b[39m \u001b[38;5;28mself\u001b[39m\u001b[38;5;241m.\u001b[39mcursor\u001b[38;5;241m.\u001b[39mfetchall()\n\u001b[1;32m     46\u001b[0m mrn_exists \u001b[38;5;241m=\u001b[39m data[\u001b[38;5;241m0\u001b[39m][\u001b[38;5;241m0\u001b[39m]\n",
      "\u001b[0;31mAttributeError\u001b[0m: 'Patient' object has no attribute 'cursor'"
     ]
    }
   ],
   "source": [
    "mrn = 222222\n",
    "p.load_mrn(mrn)\n",
    "#lists all the attributes related to the patient with mrn 333333\n",
    "p.attributes"
   ]
  },
  {
   "cell_type": "code",
   "execution_count": 10,
   "id": "0ecb1a6b-1a56-42b7-aa30-6946dbe9c267",
   "metadata": {},
   "outputs": [
    {
     "ename": "AttributeError",
     "evalue": "'Patient' object has no attribute 'cursor'",
     "output_type": "error",
     "traceback": [
      "\u001b[0;31m---------------------------------------------------------------------------\u001b[0m",
      "\u001b[0;31mAttributeError\u001b[0m                            Traceback (most recent call last)",
      "Cell \u001b[0;32mIn[10], line 2\u001b[0m\n\u001b[1;32m      1\u001b[0m mrn \u001b[38;5;241m=\u001b[39m \u001b[38;5;241m222222\u001b[39m\n\u001b[0;32m----> 2\u001b[0m \u001b[43mp\u001b[49m\u001b[38;5;241;43m.\u001b[39;49m\u001b[43mload_mrn\u001b[49m\u001b[43m(\u001b[49m\u001b[43mmrn\u001b[49m\u001b[43m)\u001b[49m\n\u001b[1;32m      3\u001b[0m \u001b[38;5;66;03m#lists all the attributes related to the patient with mrn 333333\u001b[39;00m\n\u001b[1;32m      4\u001b[0m p\u001b[38;5;241m.\u001b[39mattributes\n",
      "File \u001b[0;32m~/Patient.py:44\u001b[0m, in \u001b[0;36mPatient.load_mrn\u001b[0;34m(self, mrn)\u001b[0m\n\u001b[1;32m     42\u001b[0m \u001b[38;5;66;03m#First check if mrn exists\u001b[39;00m\n\u001b[1;32m     43\u001b[0m sql \u001b[38;5;241m=\u001b[39m \u001b[38;5;124mf\u001b[39m\u001b[38;5;124m\"\u001b[39m\u001b[38;5;124mSELECT exists (SELECT 1 FROM clinical_document.q_document WHERE mrn = \u001b[39m\u001b[38;5;124m'\u001b[39m\u001b[38;5;132;01m{\u001b[39;00mmrn\u001b[38;5;132;01m}\u001b[39;00m\u001b[38;5;124m'\u001b[39m\u001b[38;5;124m LIMIT 1)\u001b[39m\u001b[38;5;124m\"\u001b[39m\n\u001b[0;32m---> 44\u001b[0m \u001b[38;5;28;43mself\u001b[39;49m\u001b[38;5;241;43m.\u001b[39;49m\u001b[43mcursor\u001b[49m\u001b[38;5;241m.\u001b[39mexecute(sql)\n\u001b[1;32m     45\u001b[0m data \u001b[38;5;241m=\u001b[39m \u001b[38;5;28mself\u001b[39m\u001b[38;5;241m.\u001b[39mcursor\u001b[38;5;241m.\u001b[39mfetchall()\n\u001b[1;32m     46\u001b[0m mrn_exists \u001b[38;5;241m=\u001b[39m data[\u001b[38;5;241m0\u001b[39m][\u001b[38;5;241m0\u001b[39m]\n",
      "\u001b[0;31mAttributeError\u001b[0m: 'Patient' object has no attribute 'cursor'"
     ]
    }
   ],
   "source": [
    "mrn = 222222\n",
    "p.load_mrn(mrn)\n",
    "#lists all the attributes related to the patient with mrn 333333\n",
    "p.attributes"
   ]
  },
  {
   "cell_type": "code",
   "execution_count": null,
   "id": "54fcc6d9-b1fa-473b-bdb5-b6bff14fc692",
   "metadata": {},
   "outputs": [],
   "source": [
    "#prints out all data relating to this patient\n",
    "p"
   ]
  },
  {
   "cell_type": "markdown",
   "id": "73b3be9c-5c1d-4735-a398-94c1a1d47f9c",
   "metadata": {},
   "source": [
    "## Pandas-like Indexing"
   ]
  },
  {
   "cell_type": "code",
   "execution_count": null,
   "id": "87ecf0f4-f56f-4a65-8c0b-06f47d0b9d75",
   "metadata": {},
   "outputs": [],
   "source": [
    "#Two ways to index. This is the first way.\n",
    "p.last_name"
   ]
  },
  {
   "cell_type": "code",
   "execution_count": null,
   "id": "593eec03-0c9d-44e5-a402-092ea5724946",
   "metadata": {},
   "outputs": [],
   "source": [
    "#Second way to index\n",
    "p[\"c61.psa\"]"
   ]
  },
  {
   "cell_type": "code",
   "execution_count": null,
   "id": "e1b45b3d-0257-42e3-84ee-29bf6950c51b",
   "metadata": {},
   "outputs": [],
   "source": [
    "#multi index.\n",
    "fname, lname, dob = p[\"first_name\", \"last_name\", \"dob\"]\n",
    "print(fname)\n",
    "print(lname)\n",
    "print(dob)"
   ]
  },
  {
   "cell_type": "markdown",
   "id": "9192528f-f222-438b-b612-695c5480d82c",
   "metadata": {},
   "source": [
    "## Example Use Case: PSA time series"
   ]
  },
  {
   "cell_type": "code",
   "execution_count": null,
   "id": "7fb1574c-4956-4da5-9f56-f883d72d5f14",
   "metadata": {},
   "outputs": [],
   "source": [
    "p = Patient(222222)\n",
    "p[\"c61.psa\"]"
   ]
  },
  {
   "cell_type": "code",
   "execution_count": null,
   "id": "37b80caa-e9f1-48e5-9027-d8d46da1731f",
   "metadata": {},
   "outputs": [],
   "source": [
    "import matplotlib.pyplot as plt\n",
    "fig,ax = plt.subplots()\n",
    "fig.set_size_inches(10,8)\n",
    "ax.tick_params(axis='x', labelrotation = 18)\n",
    "\n",
    "df = p[\"c61.psa\"]\n",
    "df= df.sort_values(by = \"date\")\n",
    "ax.plot(df[\"date\"], df[\"psa\"], marker = \"D\", linewidth = 2, markersize = 5)\n"
   ]
  },
  {
   "cell_type": "markdown",
   "id": "e93e62de-be79-489b-af80-43bf78a2c242",
   "metadata": {},
   "source": [
    "## One Last Method(For Debugging)"
   ]
  },
  {
   "cell_type": "code",
   "execution_count": null,
   "id": "530e8daa-1be4-429b-8d35-810adb9b51bb",
   "metadata": {},
   "outputs": [],
   "source": [
    "help(p.rawdata)\n",
    "p.rawdata(\"c61.psa\")"
   ]
  },
  {
   "cell_type": "code",
   "execution_count": null,
   "id": "59e043b3-1302-4272-906e-72654908b8a4",
   "metadata": {},
   "outputs": [],
   "source": []
  }
 ],
 "metadata": {
  "kernelspec": {
   "display_name": "Python 3 (ipykernel)",
   "language": "python",
   "name": "python3"
  },
  "language_info": {
   "codemirror_mode": {
    "name": "ipython",
    "version": 3
   },
   "file_extension": ".py",
   "mimetype": "text/x-python",
   "name": "python",
   "nbconvert_exporter": "python",
   "pygments_lexer": "ipython3",
   "version": "3.10.8"
  }
 },
 "nbformat": 4,
 "nbformat_minor": 5
}
