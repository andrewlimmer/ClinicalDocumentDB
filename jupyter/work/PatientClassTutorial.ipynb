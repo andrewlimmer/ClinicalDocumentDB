{
 "cells": [
  {
   "cell_type": "markdown",
   "id": "bd15a7d4-ca9d-4247-847e-185a086fc7f5",
   "metadata": {},
   "source": [
    "# A Helpful Class to Interface With the Patient Data\n",
    "Based off of Pandas Dataframes"
   ]
  },
  {
   "cell_type": "code",
   "execution_count": 3,
   "id": "3d814e83-8bb3-4291-b5c9-fd496a7615a1",
   "metadata": {},
   "outputs": [],
   "source": [
    "from Patient import Patient"
   ]
  },
  {
   "cell_type": "markdown",
   "id": "85f6028f-15f1-470c-8d01-a47d7d12d13f",
   "metadata": {},
   "source": [
    "## Static Methods:\n",
    "The Static Methods deal with database-wide searches, meaning they are functions that are not specific for a single patient.\n"
   ]
  },
  {
   "cell_type": "markdown",
   "id": "e1f0994c-8bd8-4d2e-b873-0dc5d0549a2b",
   "metadata": {},
   "source": [
    "### 1. fetch_mrns()\n",
    "Return a list of all the mrns found in the database\n"
   ]
  },
  {
   "cell_type": "code",
   "execution_count": 4,
   "id": "87ce653e-87c5-420e-b9a1-301dbc481119",
   "metadata": {},
   "outputs": [
    {
     "name": "stdout",
     "output_type": "stream",
     "text": [
      "Error while connecting to PostgreSQL connection to server at \"clinical_db\" (172.19.0.2), port 5432 failed: FATAL:  no pg_hba.conf entry for host \"172.19.0.5\", user \"jovyan\", database \"clinical\", SSL off\n",
      "\n"
     ]
    },
    {
     "ename": "AttributeError",
     "evalue": "'db' object has no attribute 'cursor'",
     "output_type": "error",
     "traceback": [
      "\u001b[0;31m---------------------------------------------------------------------------\u001b[0m",
      "\u001b[0;31mAttributeError\u001b[0m                            Traceback (most recent call last)",
      "Cell \u001b[0;32mIn[4], line 1\u001b[0m\n\u001b[0;32m----> 1\u001b[0m \u001b[43mPatient\u001b[49m\u001b[38;5;241;43m.\u001b[39;49m\u001b[43mfetch_mrns\u001b[49m\u001b[43m(\u001b[49m\u001b[43m)\u001b[49m\n",
      "File \u001b[0;32m~/Patient.py:92\u001b[0m, in \u001b[0;36mPatient.fetch_mrns\u001b[0;34m()\u001b[0m\n\u001b[1;32m     90\u001b[0m sql \u001b[38;5;241m=\u001b[39m \u001b[38;5;124m\"\u001b[39m\u001b[38;5;124mSELECT DISTINCT mrn FROM clinical_document.q_document\u001b[39m\u001b[38;5;124m\"\u001b[39m\n\u001b[1;32m     91\u001b[0m cursor \u001b[38;5;241m=\u001b[39m db()\n\u001b[0;32m---> 92\u001b[0m data \u001b[38;5;241m=\u001b[39m \u001b[43mcursor\u001b[49m\u001b[38;5;241;43m.\u001b[39;49m\u001b[43msql\u001b[49m\u001b[43m(\u001b[49m\u001b[43msql\u001b[49m\u001b[43m)\u001b[49m\n\u001b[1;32m     93\u001b[0m data \u001b[38;5;241m=\u001b[39m \u001b[38;5;28msorted\u001b[39m(\u001b[38;5;28mlist\u001b[39m(\u001b[38;5;28mmap\u001b[39m(\u001b[38;5;28;01mlambda\u001b[39;00m a : a[\u001b[38;5;241m0\u001b[39m], data)))\n\u001b[1;32m     94\u001b[0m \u001b[38;5;28;01mreturn\u001b[39;00m data\n",
      "File \u001b[0;32m~/db_lib.py:29\u001b[0m, in \u001b[0;36mdb.sql\u001b[0;34m(self, sql)\u001b[0m\n\u001b[1;32m     25\u001b[0m \u001b[38;5;28;01mdef\u001b[39;00m \u001b[38;5;21msql\u001b[39m(\u001b[38;5;28mself\u001b[39m, sql):\n\u001b[1;32m     26\u001b[0m \u001b[38;5;250m    \u001b[39m\u001b[38;5;124;03m\"\"\"\u001b[39;00m\n\u001b[1;32m     27\u001b[0m \u001b[38;5;124;03m    SQL Request\u001b[39;00m\n\u001b[1;32m     28\u001b[0m \u001b[38;5;124;03m    \"\"\"\u001b[39;00m\n\u001b[0;32m---> 29\u001b[0m     \u001b[38;5;28;43mself\u001b[39;49m\u001b[38;5;241;43m.\u001b[39;49m\u001b[43mcursor\u001b[49m\u001b[38;5;241m.\u001b[39mexecute(sql)\n\u001b[1;32m     30\u001b[0m     data \u001b[38;5;241m=\u001b[39m \u001b[38;5;28mself\u001b[39m\u001b[38;5;241m.\u001b[39mcursor\u001b[38;5;241m.\u001b[39mfetchall()\n\u001b[1;32m     31\u001b[0m     \u001b[38;5;28;01mreturn\u001b[39;00m data\n",
      "\u001b[0;31mAttributeError\u001b[0m: 'db' object has no attribute 'cursor'"
     ]
    }
   ],
   "source": [
    "Patient.fetch_mrns()"
   ]
  },
  {
   "cell_type": "markdown",
   "id": "04cac77e-0131-4f55-a2cf-f10ca0a97651",
   "metadata": {},
   "source": [
    "### 2. search_name\n",
    "MRN Lookup by Name.  Case-insensitive\n"
   ]
  },
  {
   "cell_type": "code",
   "execution_count": 4,
   "id": "40b7c29d-da46-4df8-9a5b-99b513762ec2",
   "metadata": {},
   "outputs": [
    {
     "data": {
      "text/html": [
       "<div>\n",
       "<style scoped>\n",
       "    .dataframe tbody tr th:only-of-type {\n",
       "        vertical-align: middle;\n",
       "    }\n",
       "\n",
       "    .dataframe tbody tr th {\n",
       "        vertical-align: top;\n",
       "    }\n",
       "\n",
       "    .dataframe thead th {\n",
       "        text-align: right;\n",
       "    }\n",
       "</style>\n",
       "<table border=\"1\" class=\"dataframe\">\n",
       "  <thead>\n",
       "    <tr style=\"text-align: right;\">\n",
       "      <th></th>\n",
       "      <th>fname</th>\n",
       "      <th>lname</th>\n",
       "    </tr>\n",
       "    <tr>\n",
       "      <th>mrn</th>\n",
       "      <th></th>\n",
       "      <th></th>\n",
       "    </tr>\n",
       "  </thead>\n",
       "  <tbody>\n",
       "    <tr>\n",
       "      <th>333333</th>\n",
       "      <td>John3</td>\n",
       "      <td>Smith3</td>\n",
       "    </tr>\n",
       "  </tbody>\n",
       "</table>\n",
       "</div>"
      ],
      "text/plain": [
       "        fname   lname\n",
       "mrn                  \n",
       "333333  John3  Smith3"
      ]
     },
     "execution_count": 4,
     "metadata": {},
     "output_type": "execute_result"
    }
   ],
   "source": [
    "Patient.search_name()"
   ]
  },
  {
   "cell_type": "code",
   "execution_count": 5,
   "id": "d057ccfd-0dec-4d7d-bf61-4f014b4c2e95",
   "metadata": {},
   "outputs": [
    {
     "data": {
      "text/html": [
       "<div>\n",
       "<style scoped>\n",
       "    .dataframe tbody tr th:only-of-type {\n",
       "        vertical-align: middle;\n",
       "    }\n",
       "\n",
       "    .dataframe tbody tr th {\n",
       "        vertical-align: top;\n",
       "    }\n",
       "\n",
       "    .dataframe thead th {\n",
       "        text-align: right;\n",
       "    }\n",
       "</style>\n",
       "<table border=\"1\" class=\"dataframe\">\n",
       "  <thead>\n",
       "    <tr style=\"text-align: right;\">\n",
       "      <th></th>\n",
       "      <th>fname</th>\n",
       "      <th>lname</th>\n",
       "    </tr>\n",
       "    <tr>\n",
       "      <th>mrn</th>\n",
       "      <th></th>\n",
       "      <th></th>\n",
       "    </tr>\n",
       "  </thead>\n",
       "  <tbody>\n",
       "    <tr>\n",
       "      <th>333333</th>\n",
       "      <td>John3</td>\n",
       "      <td>Smith3</td>\n",
       "    </tr>\n",
       "  </tbody>\n",
       "</table>\n",
       "</div>"
      ],
      "text/plain": [
       "        fname   lname\n",
       "mrn                  \n",
       "333333  John3  Smith3"
      ]
     },
     "execution_count": 5,
     "metadata": {},
     "output_type": "execute_result"
    }
   ],
   "source": [
    "#Can specify last name \n",
    "Patient.search_name(last_name = \"Smith\")"
   ]
  },
  {
   "cell_type": "code",
   "execution_count": 6,
   "id": "971055aa-5f48-47a5-858f-bfdfae326dcd",
   "metadata": {},
   "outputs": [
    {
     "data": {
      "text/html": [
       "<div>\n",
       "<style scoped>\n",
       "    .dataframe tbody tr th:only-of-type {\n",
       "        vertical-align: middle;\n",
       "    }\n",
       "\n",
       "    .dataframe tbody tr th {\n",
       "        vertical-align: top;\n",
       "    }\n",
       "\n",
       "    .dataframe thead th {\n",
       "        text-align: right;\n",
       "    }\n",
       "</style>\n",
       "<table border=\"1\" class=\"dataframe\">\n",
       "  <thead>\n",
       "    <tr style=\"text-align: right;\">\n",
       "      <th></th>\n",
       "      <th>fname</th>\n",
       "      <th>lname</th>\n",
       "    </tr>\n",
       "    <tr>\n",
       "      <th>mrn</th>\n",
       "      <th></th>\n",
       "      <th></th>\n",
       "    </tr>\n",
       "  </thead>\n",
       "  <tbody>\n",
       "    <tr>\n",
       "      <th>333333</th>\n",
       "      <td>John3</td>\n",
       "      <td>Smith3</td>\n",
       "    </tr>\n",
       "  </tbody>\n",
       "</table>\n",
       "</div>"
      ],
      "text/plain": [
       "        fname   lname\n",
       "mrn                  \n",
       "333333  John3  Smith3"
      ]
     },
     "execution_count": 6,
     "metadata": {},
     "output_type": "execute_result"
    }
   ],
   "source": [
    "#Specify First Name \n",
    "Patient.search_name(first_name = \"john\")"
   ]
  },
  {
   "cell_type": "code",
   "execution_count": 7,
   "id": "b90cf37c-aa6a-4cba-9227-ffd6a6434fa9",
   "metadata": {},
   "outputs": [
    {
     "data": {
      "text/html": [
       "<div>\n",
       "<style scoped>\n",
       "    .dataframe tbody tr th:only-of-type {\n",
       "        vertical-align: middle;\n",
       "    }\n",
       "\n",
       "    .dataframe tbody tr th {\n",
       "        vertical-align: top;\n",
       "    }\n",
       "\n",
       "    .dataframe thead th {\n",
       "        text-align: right;\n",
       "    }\n",
       "</style>\n",
       "<table border=\"1\" class=\"dataframe\">\n",
       "  <thead>\n",
       "    <tr style=\"text-align: right;\">\n",
       "      <th></th>\n",
       "      <th>fname</th>\n",
       "      <th>lname</th>\n",
       "    </tr>\n",
       "    <tr>\n",
       "      <th>mrn</th>\n",
       "      <th></th>\n",
       "      <th></th>\n",
       "    </tr>\n",
       "  </thead>\n",
       "  <tbody>\n",
       "  </tbody>\n",
       "</table>\n",
       "</div>"
      ],
      "text/plain": [
       "Empty DataFrame\n",
       "Columns: [fname, lname]\n",
       "Index: []"
      ]
     },
     "execution_count": 7,
     "metadata": {},
     "output_type": "execute_result"
    }
   ],
   "source": [
    "#Or Both\n",
    "Patient.search_name(first_name = \"john\", last_name = \"doe\")"
   ]
  },
  {
   "cell_type": "markdown",
   "id": "316a9e32-98b4-4c33-a6ce-8c1e2292f34f",
   "metadata": {},
   "source": [
    "### 3. search()\n",
    "Lookup by tag.  Returns all data that matches a given tag.  CASE-SENSITIVE"
   ]
  },
  {
   "cell_type": "code",
   "execution_count": 8,
   "id": "281565cf-34c7-4924-ade1-fef92423c542",
   "metadata": {},
   "outputs": [
    {
     "data": {
      "text/html": [
       "<div>\n",
       "<style scoped>\n",
       "    .dataframe tbody tr th:only-of-type {\n",
       "        vertical-align: middle;\n",
       "    }\n",
       "\n",
       "    .dataframe tbody tr th {\n",
       "        vertical-align: top;\n",
       "    }\n",
       "\n",
       "    .dataframe thead th {\n",
       "        text-align: right;\n",
       "    }\n",
       "</style>\n",
       "<table border=\"1\" class=\"dataframe\">\n",
       "  <thead>\n",
       "    <tr style=\"text-align: right;\">\n",
       "      <th></th>\n",
       "      <th>value</th>\n",
       "    </tr>\n",
       "  </thead>\n",
       "  <tbody>\n",
       "    <tr>\n",
       "      <th>111111</th>\n",
       "      <td>C61;Malignant_neoplasm_of_prostate</td>\n",
       "    </tr>\n",
       "  </tbody>\n",
       "</table>\n",
       "</div>"
      ],
      "text/plain": [
       "                                     value\n",
       "111111  C61;Malignant_neoplasm_of_prostate"
      ]
     },
     "execution_count": 8,
     "metadata": {},
     "output_type": "execute_result"
    }
   ],
   "source": [
    "Patient.search(\"diagnosis\")"
   ]
  },
  {
   "cell_type": "code",
   "execution_count": 10,
   "id": "ad6a065a-c793-434b-bf24-5189fa1da766",
   "metadata": {},
   "outputs": [
    {
     "data": {
      "text/html": [
       "<div>\n",
       "<style scoped>\n",
       "    .dataframe tbody tr th:only-of-type {\n",
       "        vertical-align: middle;\n",
       "    }\n",
       "\n",
       "    .dataframe tbody tr th {\n",
       "        vertical-align: top;\n",
       "    }\n",
       "\n",
       "    .dataframe thead th {\n",
       "        text-align: right;\n",
       "    }\n",
       "</style>\n",
       "<table border=\"1\" class=\"dataframe\">\n",
       "  <thead>\n",
       "    <tr style=\"text-align: right;\">\n",
       "      <th></th>\n",
       "      <th>date</th>\n",
       "    </tr>\n",
       "  </thead>\n",
       "  <tbody>\n",
       "    <tr>\n",
       "      <th>333333</th>\n",
       "      <td>1965-10-18</td>\n",
       "    </tr>\n",
       "  </tbody>\n",
       "</table>\n",
       "</div>"
      ],
      "text/plain": [
       "              date\n",
       "333333  1965-10-18"
      ]
     },
     "execution_count": 10,
     "metadata": {},
     "output_type": "execute_result"
    }
   ],
   "source": [
    "Patient.search(\"dob\")"
   ]
  },
  {
   "cell_type": "markdown",
   "id": "63ce2d84-b6d0-4f1f-a9dd-fe8c4a29d30a",
   "metadata": {},
   "source": [
    "## Object Interface\n",
    "A simplistic way to retrieve the data for each patient"
   ]
  },
  {
   "cell_type": "code",
   "execution_count": 11,
   "id": "b8708793-afc6-49fe-ac85-d9512ed1dd06",
   "metadata": {},
   "outputs": [
    {
     "data": {
      "text/plain": [
       "['last_name', 'dob', 'first_name', 'mrn']"
      ]
     },
     "execution_count": 11,
     "metadata": {},
     "output_type": "execute_result"
    }
   ],
   "source": [
    "mrn = 333333\n",
    "p = Patient(mrn)\n",
    "\n",
    "#lists all the attributes related to the patient with mrn 333333\n",
    "p.attributes"
   ]
  },
  {
   "cell_type": "code",
   "execution_count": 12,
   "id": "54fcc6d9-b1fa-473b-bdb5-b6bff14fc692",
   "metadata": {},
   "outputs": [
    {
     "data": {
      "text/plain": [
       "MRN: 333333\n",
       "\n",
       "last_name:\n",
       "Smith3\n",
       "\n",
       "dob:\n",
       "1965-10-18\n",
       "\n",
       "first_name:\n",
       "John3\n",
       "\n",
       "mrn:\n",
       "333333\n"
      ]
     },
     "execution_count": 12,
     "metadata": {},
     "output_type": "execute_result"
    }
   ],
   "source": [
    "#prints out all data relating to this patient\n",
    "p"
   ]
  },
  {
   "cell_type": "markdown",
   "id": "73b3be9c-5c1d-4735-a398-94c1a1d47f9c",
   "metadata": {},
   "source": [
    "## Pandas-like Indexing"
   ]
  },
  {
   "cell_type": "code",
   "execution_count": 13,
   "id": "87ecf0f4-f56f-4a65-8c0b-06f47d0b9d75",
   "metadata": {},
   "outputs": [
    {
     "data": {
      "text/plain": [
       "'Smith3'"
      ]
     },
     "execution_count": 13,
     "metadata": {},
     "output_type": "execute_result"
    }
   ],
   "source": [
    "#Two ways to index. This is the first way.\n",
    "p.last_name"
   ]
  },
  {
   "cell_type": "code",
   "execution_count": 14,
   "id": "593eec03-0c9d-44e5-a402-092ea5724946",
   "metadata": {},
   "outputs": [
    {
     "ename": "AttributeError",
     "evalue": "'Patient' object has no attribute 'c61.psa'",
     "output_type": "error",
     "traceback": [
      "\u001b[0;31m---------------------------------------------------------------------------\u001b[0m",
      "\u001b[0;31mAttributeError\u001b[0m                            Traceback (most recent call last)",
      "Cell \u001b[0;32mIn[14], line 2\u001b[0m\n\u001b[1;32m      1\u001b[0m \u001b[38;5;66;03m#Second way to index\u001b[39;00m\n\u001b[0;32m----> 2\u001b[0m \u001b[43mp\u001b[49m\u001b[43m[\u001b[49m\u001b[38;5;124;43m\"\u001b[39;49m\u001b[38;5;124;43mc61.psa\u001b[39;49m\u001b[38;5;124;43m\"\u001b[39;49m\u001b[43m]\u001b[49m\n",
      "File \u001b[0;32m~/Patient.py:77\u001b[0m, in \u001b[0;36mPatient.__getitem__\u001b[0;34m(self, attribute)\u001b[0m\n\u001b[1;32m     75\u001b[0m \u001b[38;5;250m\u001b[39m\u001b[38;5;124;03m'''Supports p[\"first_name\", \"last_name\"]'''\u001b[39;00m\n\u001b[1;32m     76\u001b[0m \u001b[38;5;28;01mif\u001b[39;00m \u001b[38;5;28misinstance\u001b[39m(attribute, \u001b[38;5;28mstr\u001b[39m):\n\u001b[0;32m---> 77\u001b[0m     \u001b[38;5;28;01mreturn\u001b[39;00m \u001b[38;5;28;43mgetattr\u001b[39;49m\u001b[43m(\u001b[49m\u001b[38;5;28;43mself\u001b[39;49m\u001b[43m,\u001b[49m\u001b[43mattribute\u001b[49m\u001b[43m)\u001b[49m\n\u001b[1;32m     78\u001b[0m \u001b[38;5;28;01melif\u001b[39;00m \u001b[38;5;28misinstance\u001b[39m(attribute, Iterable):\n\u001b[1;32m     79\u001b[0m     l \u001b[38;5;241m=\u001b[39m []\n",
      "\u001b[0;31mAttributeError\u001b[0m: 'Patient' object has no attribute 'c61.psa'"
     ]
    }
   ],
   "source": [
    "#Second way to index\n",
    "p[\"c61.psa\"]"
   ]
  },
  {
   "cell_type": "code",
   "execution_count": 15,
   "id": "e1b45b3d-0257-42e3-84ee-29bf6950c51b",
   "metadata": {},
   "outputs": [
    {
     "name": "stdout",
     "output_type": "stream",
     "text": [
      "John3\n",
      "Smith3\n",
      "1965-10-18\n"
     ]
    }
   ],
   "source": [
    "#multi index.\n",
    "fname, lname, dob = p[\"first_name\", \"last_name\", \"dob\"]\n",
    "print(fname)\n",
    "print(lname)\n",
    "print(dob)"
   ]
  },
  {
   "cell_type": "markdown",
   "id": "9192528f-f222-438b-b612-695c5480d82c",
   "metadata": {},
   "source": [
    "## Example Use Case: PSA time series"
   ]
  },
  {
   "cell_type": "code",
   "execution_count": null,
   "id": "7fb1574c-4956-4da5-9f56-f883d72d5f14",
   "metadata": {},
   "outputs": [],
   "source": [
    "p = Patient(111111)\n",
    "p[\"c61.psa\"]"
   ]
  },
  {
   "cell_type": "code",
   "execution_count": null,
   "id": "37b80caa-e9f1-48e5-9027-d8d46da1731f",
   "metadata": {},
   "outputs": [],
   "source": [
    "import matplotlib.pyplot as plt\n",
    "fig,ax = plt.subplots()\n",
    "fig.set_size_inches(10,8)\n",
    "ax.tick_params(axis='x', labelrotation = 18)\n",
    "\n",
    "df = p[\"c61.psa\"]\n",
    "df= df.sort_values(by = \"date\")\n",
    "ax.plot(df[\"date\"], df[\"psa\"], marker = \"D\", linewidth = 2, markersize = 5)\n"
   ]
  },
  {
   "cell_type": "markdown",
   "id": "e93e62de-be79-489b-af80-43bf78a2c242",
   "metadata": {},
   "source": [
    "## One Last Method(For Debugging)"
   ]
  },
  {
   "cell_type": "code",
   "execution_count": null,
   "id": "530e8daa-1be4-429b-8d35-810adb9b51bb",
   "metadata": {},
   "outputs": [],
   "source": [
    "help(p.rawdata)\n",
    "p.rawdata(\"c61.psa\")"
   ]
  }
 ],
 "metadata": {
  "kernelspec": {
   "display_name": "Python 3 (ipykernel)",
   "language": "python",
   "name": "python3"
  },
  "language_info": {
   "codemirror_mode": {
    "name": "ipython",
    "version": 3
   },
   "file_extension": ".py",
   "mimetype": "text/x-python",
   "name": "python",
   "nbconvert_exporter": "python",
   "pygments_lexer": "ipython3",
   "version": "3.10.8"
  }
 },
 "nbformat": 4,
 "nbformat_minor": 5
}
